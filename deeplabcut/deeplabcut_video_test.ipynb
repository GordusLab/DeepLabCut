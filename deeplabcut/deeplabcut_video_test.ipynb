{
 "cells": [
  {
   "cell_type": "code",
   "execution_count": 1,
   "id": "16220c48",
   "metadata": {},
   "outputs": [],
   "source": [
    "\n",
    "class SpiderCroppedVideoReader():\n",
    "    \"\"\" This class mimics OpenCV's VideoCapture class, but instead reads\n",
    "        the *.ufmf files, which contain 200x200 cropped/rotated and monochrome\n",
    "        spider images.\n",
    "    \"\"\"\n",
    "\n",
    "    def __init__(self, filename, progressCallback=None):\n",
    "        self.fname = filename\n",
    "        self.iframe = 0\n",
    "        self.progressCallback = progressCallback\n",
    "\n",
    "        # DEBUG\n",
    "        self.MAX_NUM_FRAMES = 50 * 3600 * 24 * 100\n",
    "\n",
    "        # Is this a supported input file?\n",
    "        if not self.fname.endswith('.ufmf'):\n",
    "            raise Exception('Unsupported input file. Only *.ufmf files allowed.')\n",
    "\n",
    "        # Open file to determine size\n",
    "        from motmot.SpiderMovie import SpiderMovie\n",
    "        mov = SpiderMovie(filename)\n",
    "        #self.arr = np.memmap(self.fname, dtype=np.uint8, mode='r')\n",
    "        #N = self.arr.shape[0]\n",
    "        N = mov.shape[0]*mov.shape[1]*mov.shape[2]\n",
    "        #del self.arr\n",
    "        # Ensure this file has the right size\n",
    "        if N % (1024 * 1024) != 0:\n",
    "            raise Exception('Image does not have expected size of 1024x1024.')\n",
    "        # Open again with right shape\n",
    "        #self.arr = np.memmap(self.fname, dtype=np.uint8, mode='r', shape=(int(N / (1024 * 1024)), 1024, 1024))\n",
    "        self.matrix_shape = mov.shape\n",
    "        self.mov = mov\n",
    "\n",
    "    # Get various metadata\n",
    "    def get(self, i):\n",
    "        # Call progress callback\n",
    "        if self.progressCallback is not None:\n",
    "            try:\n",
    "                self.progressCallback(float(i) / self.matrix_shape[0])\n",
    "            except:\n",
    "                pass\n",
    "        # NUM. FRAMES\n",
    "        if i == 7:\n",
    "            if self.matrix_shape is not None:\n",
    "                return min(self.MAX_NUM_FRAMES, self.matrix_shape[0])\n",
    "            else:\n",
    "                raise Exception('File closed.')\n",
    "        # FPS\n",
    "        elif i == 5:\n",
    "            return 50\n",
    "        # HEIGHT\n",
    "        elif i == 4:\n",
    "            return 1024\n",
    "        # WIDTH\n",
    "        elif i == 3:\n",
    "            return 1024\n",
    "        # ERROR\n",
    "        else:\n",
    "            raise Exception('Unsupported metadata requested: {}'.format(i))\n",
    "\n",
    "    def isOpened(self):\n",
    "        return True\n",
    "\n",
    "    def read(self):\n",
    "        if self.iframe >= self.get(7):\n",
    "            return False, np.zeros((1024, 1024), dtype=np.uint8)\n",
    "        else:\n",
    "            self.iframe += 1\n",
    "            return True, self.mov[self.iframe - 1]"
   ]
  },
  {
   "cell_type": "code",
   "execution_count": 2,
   "id": "426d40ce",
   "metadata": {},
   "outputs": [
    {
     "data": {
      "text/plain": [
       "['Z:/HsinYi/Test Video From Darya/test_clip_dlc/raw\\\\bias_video_cam_2_date_2023_05_31_time_19_56_23_v001.all.s.ufmf']"
      ]
     },
     "execution_count": 2,
     "metadata": {},
     "output_type": "execute_result"
    }
   ],
   "source": [
    "basepath = 'Z:/HsinYi/Test Video From Darya/test_clip_dlc/'\n",
    "project_name = 'TEST'\n",
    "scorer = 'PC'\n",
    "\n",
    "import os, glob\n",
    "\n",
    "\n",
    "video_list = glob.glob(os.path.join(basepath, 'raw/')+'*.s.ufmf')\n",
    "video_list\n"
   ]
  },
  {
   "cell_type": "code",
   "execution_count": 3,
   "id": "635a1f74",
   "metadata": {},
   "outputs": [
    {
     "name": "stdout",
     "output_type": "stream",
     "text": [
      "Created \"\\\\10.99.66.32\\Team Spider\\HsinYi\\Test Video From Darya\\test_clip_dlc\\TEST-PC-2023-09-23\\videos\"\n",
      "Created \"\\\\10.99.66.32\\Team Spider\\HsinYi\\Test Video From Darya\\test_clip_dlc\\TEST-PC-2023-09-23\\labeled-data\"\n",
      "Created \"\\\\10.99.66.32\\Team Spider\\HsinYi\\Test Video From Darya\\test_clip_dlc\\TEST-PC-2023-09-23\\training-datasets\"\n",
      "Created \"\\\\10.99.66.32\\Team Spider\\HsinYi\\Test Video From Darya\\test_clip_dlc\\TEST-PC-2023-09-23\\dlc-models\"\n",
      "Copying the videos\n",
      "\\\\10.99.66.32\\Team Spider\\HsinYi\\Test Video From Darya\\test_clip_dlc\\TEST-PC-2023-09-23\\videos\\bias_video_cam_2_date_2023_05_31_time_19_56_23_v001.all.s.ufmf\n",
      "Generated \"\\\\10.99.66.32\\Team Spider\\HsinYi\\Test Video From Darya\\test_clip_dlc\\TEST-PC-2023-09-23\\config.yaml\"\n",
      "\n",
      "A new project with name TEST-PC-2023-09-23 is created at \\\\10.99.66.32\\Team Spider\\HsinYi\\Test Video From Darya\\test_clip_dlc and a configurable file (config.yaml) is stored there. Change the parameters in this file to adapt to your project's needs.\n",
      " Once you have changed the configuration file, use the function 'extract_frames' to select frames for labeling.\n",
      ". [OPTIONAL] Use the function 'add_new_videos' to add new videos to your project (at any stage).\n"
     ]
    },
    {
     "name": "stderr",
     "output_type": "stream",
     "text": [
      "c:\\users\\gordus_lab\\documents\\repositories\\deeplabcut\\deeplabcut\\motmot\\ufmf\\ufmf.py:199: FutureWarning: elementwise comparison failed; returning scalar instead, but in the future will perform elementwise comparison\n",
      "  assert key not in value\n"
     ]
    },
    {
     "data": {
      "text/plain": [
       "'\\\\\\\\10.99.66.32\\\\Team Spider\\\\HsinYi\\\\Test Video From Darya\\\\test_clip_dlc\\\\TEST-PC-2023-09-23\\\\config.yaml'"
      ]
     },
     "execution_count": 3,
     "metadata": {},
     "output_type": "execute_result"
    }
   ],
   "source": [
    "import deeplabcut\n",
    "deeplabcut.create_new_project(project_name , scorer, video_list, working_directory=basepath, copy_videos= True, videoReader = SpiderCroppedVideoReader)"
   ]
  },
  {
   "cell_type": "code",
   "execution_count": 4,
   "id": "68531873",
   "metadata": {},
   "outputs": [],
   "source": [
    "config_path = basepath+ '/TEST-PC-2023-09-23/config.yaml'\n",
    "cfg = deeplabcut.auxiliaryfunctions.read_config(config_path)\n",
    "cfg['bodyparts'] =['0', '1', '2', '3', '4', '5', '6', '7', '8', '9', '10', '11', '12', '13', '14', '15', '16', '17', '18', '19', '20', '21', '22', '23', '24', '25']\n",
    "deeplabcut.auxiliaryfunctions.write_config(config_path, cfg)"
   ]
  },
  {
   "cell_type": "code",
   "execution_count": 2,
   "id": "0200aae2",
   "metadata": {},
   "outputs": [
    {
     "name": "stderr",
     "output_type": "stream",
     "text": [
      "c:\\users\\gordus_lab\\documents\\repositories\\deeplabcut\\deeplabcut\\motmot\\ufmf\\ufmf.py:199: FutureWarning: elementwise comparison failed; returning scalar instead, but in the future will perform elementwise comparison\n",
      "  assert key not in value\n"
     ]
    },
    {
     "name": "stdout",
     "output_type": "stream",
     "text": [
      "CREATING-SOME LABELS FOR THE FRAMES\n"
     ]
    }
   ],
   "source": [
    "## Skip extract frames\n",
    "## Skip label frames\n",
    "\n",
    "## Generate labeling csv\n",
    "import os, glob\n",
    "\n",
    "video_list = glob.glob(os.path.join(basepath, 'raw/')+'*.s.ufmf')\n",
    "videoname = video_list[0].split('raw\\\\')[1]\n",
    "joint_filename = basepath + '/croprot/' +'bias_video_cam_2_date_2023_05_31_time_19_56_23_v001.all.s_dlc_abs.npy'\n",
    "\n",
    "from deeplabcut.generate_training_dataset import creating_labeling_csv\n",
    "creating_labeling_csv.creating_labeling_csv(config_path, basepath, videoname, joint_filename)\n"
   ]
  },
  {
   "cell_type": "code",
   "execution_count": 2,
   "id": "92f9b644",
   "metadata": {},
   "outputs": [
    {
     "name": "stdout",
     "output_type": "stream",
     "text": [
      "Creating images with labels by PC.\n",
      "\\\\10.99.66.32\\Team Spider\\HsinYi\\Test Video From Darya\\test_clip_dlc\\TEST-PC-2023-09-23\\labeled-data\\bias_video_cam_2_date_2023_05_31_time_19_56_23_v001.all.s.ufmf_labeled  already exists!\n"
     ]
    },
    {
     "name": "stderr",
     "output_type": "stream",
     "text": [
      "c:\\users\\gordus_lab\\documents\\repositories\\deeplabcut\\deeplabcut\\motmot\\ufmf\\ufmf.py:199: FutureWarning: elementwise comparison failed; returning scalar instead, but in the future will perform elementwise comparison\n",
      "  assert key not in value\n"
     ]
    },
    {
     "name": "stdout",
     "output_type": "stream",
     "text": [
      "They are stored in the following folder: \\\\10.99.66.32\\Team Spider\\HsinYi\\Test Video From Darya\\test_clip_dlc\\TEST-PC-2023-09-23\\labeled-data\\bias_video_cam_2_date_2023_05_31_time_19_56_23_v001.all.s.ufmf_labeled.\n",
      "If all the labels are ok, then use the function 'create_training_dataset' to create the training dataset!\n"
     ]
    }
   ],
   "source": [
    "deeplabcut.check_labels(config_path, basepath=basepath)"
   ]
  },
  {
   "cell_type": "code",
   "execution_count": 1,
   "id": "3af3bdec-f0f7-488e-a5ce-77d79394d0f4",
   "metadata": {},
   "outputs": [],
   "source": [
    "import deeplabcut\n",
    "basepath = 'Z:/HsinYi/Test Video From Darya/test_clip_dlc/'\n",
    "config_path = basepath+ '/TEST-PC-2023-09-23/config.yaml'\n",
    "cfg = deeplabcut.auxiliaryfunctions.read_config(config_path)"
   ]
  },
  {
   "cell_type": "code",
   "execution_count": null,
   "id": "809034dd-17cd-4544-bd0d-d34c613a7a05",
   "metadata": {},
   "outputs": [
    {
     "name": "stdout",
     "output_type": "stream",
     "text": [
      "CREATING TRAININGSET\n",
      "\\\\10.99.66.32\\Team Spider\\HsinYi\\Test Video From Darya\\test_clip_dlc\\TEST-PC-2023-09-23\\training-datasets\\iteration-0\\UnaugmentedDataSet_TESTSep23  already exists!\n"
     ]
    },
    {
     "name": "stderr",
     "output_type": "stream",
     "text": [
      "c:\\users\\gordus_lab\\documents\\repositories\\deeplabcut\\deeplabcut\\motmot\\ufmf\\ufmf.py:199: FutureWarning: elementwise comparison failed; returning scalar instead, but in the future will perform elementwise comparison\n",
      "  assert key not in value\n",
      "C:\\Users\\Gordus_Lab\\anaconda3\\envs\\dlc-windowsCPU-trainvideo\\lib\\site-packages\\deeplabcut\\generate_training_dataset\\trainingsetmanipulation.py:605: RuntimeWarning: invalid value encountered in less\n",
      "  if Data[bodypart]['x'][jj]<np.shape(im)[1] and Data[bodypart]['y'][jj]<np.shape(im)[0]: #are labels in image?\n"
     ]
    }
   ],
   "source": [
    "print(\"CREATING TRAININGSET\")\n",
    "deeplabcut.create_training_dataset(config_path)"
   ]
  },
  {
   "cell_type": "code",
   "execution_count": null,
   "id": "6edb9537-9fbf-443d-bfb7-8bc3c015861a",
   "metadata": {},
   "outputs": [],
   "source": [
    "print('Train the network')\n",
    "deeplabcut.train_network(config_path)"
   ]
  }
 ],
 "metadata": {
  "kernelspec": {
   "display_name": "Python [conda env:dlc-windowsCPU-trainvideo]",
   "language": "python",
   "name": "conda-env-dlc-windowsCPU-trainvideo-py"
  },
  "language_info": {
   "codemirror_mode": {
    "name": "ipython",
    "version": 3
   },
   "file_extension": ".py",
   "mimetype": "text/x-python",
   "name": "python",
   "nbconvert_exporter": "python",
   "pygments_lexer": "ipython3",
   "version": "3.6.15"
  }
 },
 "nbformat": 4,
 "nbformat_minor": 5
}
