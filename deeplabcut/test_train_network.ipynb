{
 "cells": [
  {
   "cell_type": "code",
   "execution_count": 1,
   "id": "26031a79-84a7-4a47-970c-cd14d98fa3f6",
   "metadata": {},
   "outputs": [
    {
     "name": "stdout",
     "output_type": "stream",
     "text": [
      "Loading DLC 2.3.2...\n"
     ]
    }
   ],
   "source": [
    "import deeplabcut\n",
    "basepath = 'Z:/HsinYi/Test Video From Darya/DLC retrain/'\n",
    "config_path = basepath+ '/TEST-PC-2023-09-28/config.yaml'\n",
    "cfg = deeplabcut.auxiliaryfunctions.read_config(config_path)"
   ]
  },
  {
   "cell_type": "code",
   "execution_count": 2,
   "id": "bef2aea1-38ae-4287-a3b5-99c97cbba5f0",
   "metadata": {},
   "outputs": [],
   "source": [
    "config_path = basepath+ 'TEST-PC-2023-09-28/dlc-models/iteration-0/TESTSep28-trainset95shuffle1/train/pose_cfg.yaml'\n",
    "cfg = deeplabcut.auxiliaryfunctions.read_config(config_path)\n",
    "cfg['dataset_type'] = 'default'\n",
    "cfg['decay_steps']= 30000\n",
    "cfg['batch_size']= 1\n",
    "cfg['project_path']= basepath+'TEST-PC-2023-09-28'\n",
    "deeplabcut.auxiliaryfunctions.write_config(config_path, cfg)"
   ]
  },
  {
   "cell_type": "code",
   "execution_count": 3,
   "id": "8362847e-50bb-4960-a117-be7198484206",
   "metadata": {},
   "outputs": [
    {
     "data": {
      "text/plain": [
       "'Z:/HsinYi/Test Video From Darya/DLC retrain/TEST-PC-2023-09-28'"
      ]
     },
     "execution_count": 3,
     "metadata": {},
     "output_type": "execute_result"
    }
   ],
   "source": [
    "cfg[\"project_path\"]"
   ]
  },
  {
   "cell_type": "code",
   "execution_count": 4,
   "id": "9486b28f-a417-432a-8d43-85445c067673",
   "metadata": {},
   "outputs": [
    {
     "data": {
      "text/plain": [
       "'training-datasets\\\\iteration-0\\\\UnaugmentedDataSet_TESTSep28\\\\TEST_PC95shuffle1.mat'"
      ]
     },
     "execution_count": 4,
     "metadata": {},
     "output_type": "execute_result"
    }
   ],
   "source": [
    "cfg[\"dataset\"]"
   ]
  },
  {
   "cell_type": "code",
   "execution_count": null,
   "id": "a80be130-751b-469f-b659-892b55229829",
   "metadata": {},
   "outputs": [
    {
     "name": "stderr",
     "output_type": "stream",
     "text": [
      "Config:\n",
      "{'Task': None,\n",
      " 'TrainingFraction': None,\n",
      " 'all_joints': [[0],\n",
      "                [1],\n",
      "                [2],\n",
      "                [3],\n",
      "                [4],\n",
      "                [5],\n",
      "                [6],\n",
      "                [7],\n",
      "                [8],\n",
      "                [9],\n",
      "                [10],\n",
      "                [11],\n",
      "                [12],\n",
      "                [13],\n",
      "                [14],\n",
      "                [15],\n",
      "                [16],\n",
      "                [17],\n",
      "                [18],\n",
      "                [19],\n",
      "                [20],\n",
      "                [21],\n",
      "                [22],\n",
      "                [23],\n",
      "                [24],\n",
      "                [25]],\n",
      " 'all_joints_names': ['0',\n",
      "                      '1',\n",
      "                      '2',\n",
      "                      '3',\n",
      "                      '4',\n",
      "                      '5',\n",
      "                      '6',\n",
      "                      '7',\n",
      "                      '8',\n",
      "                      '9',\n",
      "                      '10',\n",
      "                      '11',\n",
      "                      '12',\n",
      "                      '13',\n",
      "                      '14',\n",
      "                      '15',\n",
      "                      '16',\n",
      "                      '17',\n",
      "                      '18',\n",
      "                      '19',\n",
      "                      '20',\n",
      "                      '21',\n",
      "                      '22',\n",
      "                      '23',\n",
      "                      '24',\n",
      "                      '25'],\n",
      " 'alphavalue': None,\n",
      " 'batch_size': 1,\n",
      " 'bodyparts': None,\n",
      " 'bottomheight': 400,\n",
      " 'colormap': None,\n",
      " 'corner2move2': None,\n",
      " 'crop': True,\n",
      " 'crop_pad': 0,\n",
      " 'cropping': None,\n",
      " 'cropratio': 0.4,\n",
      " 'dataset': 'training-datasets\\\\iteration-0\\\\UnaugmentedDataSet_TESTSep28\\\\TEST_PC95shuffle1.mat',\n",
      " 'dataset_type': 'default',\n",
      " 'date': None,\n",
      " 'decay_steps': 30000,\n",
      " 'default_augmenter': None,\n",
      " 'default_net_type': None,\n",
      " 'deterministic': False,\n",
      " 'display_iters': 1000,\n",
      " 'dotsize': None,\n",
      " 'fg_fraction': 0.25,\n",
      " 'global_scale': 0.8,\n",
      " 'identity': None,\n",
      " 'init_weights': 'C:\\\\Users\\\\Gordus_Lab\\\\anaconda3\\\\envs\\\\dlc-windowsCPU-trainvideo\\\\lib\\\\site-packages\\\\deeplabcut\\\\pose_estimation_tensorflow\\\\models\\\\pretrained\\\\resnet_v1_50.ckpt',\n",
      " 'intermediate_supervision': False,\n",
      " 'intermediate_supervision_layer': 12,\n",
      " 'iteration': None,\n",
      " 'leftwidth': 400,\n",
      " 'location_refinement': True,\n",
      " 'locref_huber_loss': True,\n",
      " 'locref_loss_weight': 0.05,\n",
      " 'locref_stdev': 7.2801,\n",
      " 'log_dir': 'log',\n",
      " 'max_input_size': 1500,\n",
      " 'mean_pixel': [123.68, 116.779, 103.939],\n",
      " 'metadataset': 'training-datasets\\\\iteration-0\\\\UnaugmentedDataSet_TESTSep28\\\\Documentation_data-TEST_95shuffle1.pickle',\n",
      " 'min_input_size': 64,\n",
      " 'minsize': 100,\n",
      " 'mirror': False,\n",
      " 'move2corner': None,\n",
      " 'multi_step': [[0.005, 10000],\n",
      "                [0.02, 430000],\n",
      "                [0.002, 730000],\n",
      "                [0.001, 1030000]],\n",
      " 'multianimalproject': None,\n",
      " 'net_type': 'resnet_50',\n",
      " 'num_joints': 26,\n",
      " 'numframes2pick': None,\n",
      " 'optimizer': 'sgd',\n",
      " 'pairwise_huber_loss': True,\n",
      " 'pairwise_predict': False,\n",
      " 'partaffinityfield_predict': False,\n",
      " 'pcutoff': None,\n",
      " 'pos_dist_thresh': 17,\n",
      " 'project_path': 'Z:/HsinYi/Test Video From Darya/DLC '\n",
      "                 'retrain/TEST-PC-2023-09-28',\n",
      " 'regularize': False,\n",
      " 'rightwidth': 400,\n",
      " 'save_iters': 50000,\n",
      " 'scale_jitter_lo': 0.5,\n",
      " 'scale_jitter_up': 1.25,\n",
      " 'scoremap_dir': 'test',\n",
      " 'scorer': None,\n",
      " 'shuffle': True,\n",
      " 'skeleton': [],\n",
      " 'skeleton_color': 'black',\n",
      " 'snapshot_prefix': 'Z:\\\\HsinYi\\\\Test Video From Darya\\\\DLC '\n",
      "                    'retrain\\\\TEST-PC-2023-09-28\\\\dlc-models\\\\iteration-0\\\\TESTSep28-trainset95shuffle1\\\\train\\\\snapshot',\n",
      " 'snapshotindex': None,\n",
      " 'start': None,\n",
      " 'stop': None,\n",
      " 'stride': 8.0,\n",
      " 'topheight': 400,\n",
      " 'video_sets': None,\n",
      " 'weigh_negatives': False,\n",
      " 'weigh_only_present_joints': False,\n",
      " 'weigh_part_predictions': False,\n",
      " 'weight_decay': 0.0001,\n",
      " 'x1': None,\n",
      " 'x2': None,\n",
      " 'y1': None,\n",
      " 'y2': None}\n"
     ]
    },
    {
     "name": "stdout",
     "output_type": "stream",
     "text": [
      "Train the network\n",
      "Selecting single-animal trainer\n",
      "Batch Size is 1\n"
     ]
    },
    {
     "name": "stderr",
     "output_type": "stream",
     "text": [
      "C:\\Users\\Gordus_Lab\\anaconda3\\envs\\DEEPLABCUT\\lib\\site-packages\\tensorflow\\python\\keras\\engine\\base_layer_v1.py:1694: UserWarning: `layer.apply` is deprecated and will be removed in a future version. Please use `layer.__call__` method instead.\n",
      "  warnings.warn('`layer.apply` is deprecated and '\n"
     ]
    },
    {
     "name": "stdout",
     "output_type": "stream",
     "text": [
      "Loading ImageNet-pretrained resnet_50\n"
     ]
    },
    {
     "name": "stderr",
     "output_type": "stream",
     "text": [
      "Exception in thread Thread-5:\n",
      "Traceback (most recent call last):\n",
      "  File \"C:\\Users\\Gordus_Lab\\anaconda3\\envs\\DEEPLABCUT\\lib\\threading.py\", line 932, in _bootstrap_inner\n",
      "    self.run()\n",
      "  File \"C:\\Users\\Gordus_Lab\\anaconda3\\envs\\DEEPLABCUT\\lib\\threading.py\", line 870, in run\n",
      "    self._target(*self._args, **self._kwargs)\n",
      "  File \"C:\\Users\\Gordus_Lab\\anaconda3\\envs\\DEEPLABCUT\\lib\\site-packages\\deeplabcut\\pose_estimation_tensorflow\\core\\train.py\", line 83, in load_and_enqueue\n",
      "    batch_np = dataset.next_batch()\n",
      "  File \"C:\\Users\\Gordus_Lab\\anaconda3\\envs\\DEEPLABCUT\\lib\\site-packages\\deeplabcut\\pose_estimation_tensorflow\\datasets\\pose_imgaug.py\", line 406, in next_batch\n",
      "    ) = self.get_batch()\n",
      "  File \"C:\\Users\\Gordus_Lab\\anaconda3\\envs\\DEEPLABCUT\\lib\\site-packages\\deeplabcut\\pose_estimation_tensorflow\\datasets\\pose_imgaug.py\", line 335, in get_batch\n",
      "    image = imread(\n",
      "  File \"C:\\Users\\Gordus_Lab\\anaconda3\\envs\\DEEPLABCUT\\lib\\site-packages\\deeplabcut\\utils\\auxfun_videos.py\", line 371, in imread\n",
      "    image = io.imread(image_path)\n",
      "  File \"C:\\Users\\Gordus_Lab\\anaconda3\\envs\\DEEPLABCUT\\lib\\site-packages\\skimage\\io\\_io.py\", line 53, in imread\n",
      "    img = call_plugin('imread', fname, plugin=plugin, **plugin_args)\n",
      "  File \"C:\\Users\\Gordus_Lab\\anaconda3\\envs\\DEEPLABCUT\\lib\\site-packages\\skimage\\io\\manage_plugins.py\", line 205, in call_plugin\n",
      "    return func(*args, **kwargs)\n",
      "  File \"C:\\Users\\Gordus_Lab\\anaconda3\\envs\\DEEPLABCUT\\lib\\site-packages\\skimage\\io\\_plugins\\imageio_plugin.py\", line 15, in imread\n",
      "    return np.asarray(imageio_imread(*args, **kwargs))\n",
      "  File \"C:\\Users\\Gordus_Lab\\anaconda3\\envs\\DEEPLABCUT\\lib\\site-packages\\imageio\\v2.py\", line 226, in imread\n",
      "    with imopen(uri, \"ri\", **imopen_args) as file:\n",
      "  File \"C:\\Users\\Gordus_Lab\\anaconda3\\envs\\DEEPLABCUT\\lib\\site-packages\\imageio\\core\\imopen.py\", line 113, in imopen\n",
      "    request = Request(uri, io_mode, format_hint=format_hint, extension=extension)\n",
      "  File \"C:\\Users\\Gordus_Lab\\anaconda3\\envs\\DEEPLABCUT\\lib\\site-packages\\imageio\\core\\request.py\", line 247, in __init__\n",
      "    self._parse_uri(uri)\n",
      "  File \"C:\\Users\\Gordus_Lab\\anaconda3\\envs\\DEEPLABCUT\\lib\\site-packages\\imageio\\core\\request.py\", line 407, in _parse_uri\n",
      "    raise FileNotFoundError(\"No such file: '%s'\" % fn)\n",
      "FileNotFoundError: No such file: 'Z:\\HsinYi\\Test Video From Darya\\DLC retrain\\TEST-PC-2023-09-28\\labeled-data\\bias_video_cam_2_date_2023_09_26_time_20_44_05_v001.all.s.ufmf\\804'\n"
     ]
    },
    {
     "name": "stdout",
     "output_type": "stream",
     "text": [
      "Training parameter:\n",
      "{'stride': 8.0, 'weigh_part_predictions': False, 'weigh_negatives': False, 'fg_fraction': 0.25, 'mean_pixel': [123.68, 116.779, 103.939], 'shuffle': True, 'snapshot_prefix': 'Z:\\\\HsinYi\\\\Test Video From Darya\\\\DLC retrain\\\\TEST-PC-2023-09-28\\\\dlc-models\\\\iteration-0\\\\TESTSep28-trainset95shuffle1\\\\train\\\\snapshot', 'log_dir': 'log', 'global_scale': 0.8, 'location_refinement': True, 'locref_stdev': 7.2801, 'locref_loss_weight': 0.05, 'locref_huber_loss': True, 'optimizer': 'sgd', 'intermediate_supervision': False, 'intermediate_supervision_layer': 12, 'regularize': False, 'weight_decay': 0.0001, 'crop_pad': 0, 'scoremap_dir': 'test', 'batch_size': 1, 'dataset_type': 'default', 'deterministic': False, 'mirror': False, 'pairwise_huber_loss': True, 'weigh_only_present_joints': False, 'partaffinityfield_predict': False, 'pairwise_predict': False, 'Task': None, 'scorer': None, 'date': None, 'multianimalproject': None, 'identity': None, 'project_path': 'Z:/HsinYi/Test Video From Darya/DLC retrain/TEST-PC-2023-09-28', 'video_sets': None, 'bodyparts': None, 'start': None, 'stop': None, 'numframes2pick': None, 'skeleton': [], 'skeleton_color': 'black', 'pcutoff': None, 'dotsize': None, 'alphavalue': None, 'colormap': None, 'TrainingFraction': None, 'iteration': None, 'default_net_type': None, 'default_augmenter': None, 'snapshotindex': None, 'cropping': None, 'x1': None, 'x2': None, 'y1': None, 'y2': None, 'corner2move2': None, 'move2corner': None, 'all_joints': [[0], [1], [2], [3], [4], [5], [6], [7], [8], [9], [10], [11], [12], [13], [14], [15], [16], [17], [18], [19], [20], [21], [22], [23], [24], [25]], 'all_joints_names': ['0', '1', '2', '3', '4', '5', '6', '7', '8', '9', '10', '11', '12', '13', '14', '15', '16', '17', '18', '19', '20', '21', '22', '23', '24', '25'], 'bottomheight': 400, 'crop': True, 'cropratio': 0.4, 'dataset': 'training-datasets\\\\iteration-0\\\\UnaugmentedDataSet_TESTSep28\\\\TEST_PC95shuffle1.mat', 'display_iters': 1000, 'init_weights': 'C:\\\\Users\\\\Gordus_Lab\\\\anaconda3\\\\envs\\\\dlc-windowsCPU-trainvideo\\\\lib\\\\site-packages\\\\deeplabcut\\\\pose_estimation_tensorflow\\\\models\\\\pretrained\\\\resnet_v1_50.ckpt', 'leftwidth': 400, 'max_input_size': 1500, 'metadataset': 'training-datasets\\\\iteration-0\\\\UnaugmentedDataSet_TESTSep28\\\\Documentation_data-TEST_95shuffle1.pickle', 'min_input_size': 64, 'minsize': 100, 'multi_step': [[0.005, 10000], [0.02, 430000], [0.002, 730000], [0.001, 1030000]], 'net_type': 'resnet_50', 'num_joints': 26, 'pos_dist_thresh': 17, 'rightwidth': 400, 'save_iters': 50000, 'scale_jitter_lo': 0.5, 'scale_jitter_up': 1.25, 'topheight': 400, 'decay_steps': 30000, 'rotation': 25, 'rotratio': 0.4, 'covering': True, 'elastic_transform': True, 'motion_blur': True, 'motion_blur_params': {'k': 7, 'angle': (-90, 90)}}\n",
      "Starting training....\n"
     ]
    }
   ],
   "source": [
    "config_path = basepath+ '/TEST-PC-2023-09-28/config.yaml'\n",
    "print('Train the network')\n",
    "deeplabcut.train_network(config_path)"
   ]
  },
  {
   "cell_type": "code",
   "execution_count": 5,
   "id": "d0a8b5df-833f-4732-841a-5c268b616c33",
   "metadata": {},
   "outputs": [],
   "source": [
    "config_path = basepath+ 'TEST-PC-2023-09-24/dlc-models/iteration-0/TESTSep24-trainset95shuffle1/train/pose_cfg.yaml'\n",
    "cfg = deeplabcut.auxiliaryfunctions.read_config(config_path)\n",
    "batch_size  = cfg.get(\"batch_size\", 1)\n",
    "batch_size"
   ]
  },
  {
   "cell_type": "code",
   "execution_count": null,
   "id": "8ff37249-6ec8-433a-81e7-7892b2f5af29",
   "metadata": {},
   "outputs": [],
   "source": []
  }
 ],
 "metadata": {
  "kernelspec": {
   "display_name": "Python [conda env:DEEPLABCUT]",
   "language": "python",
   "name": "conda-env-DEEPLABCUT-py"
  },
  "language_info": {
   "codemirror_mode": {
    "name": "ipython",
    "version": 3
   },
   "file_extension": ".py",
   "mimetype": "text/x-python",
   "name": "python",
   "nbconvert_exporter": "python",
   "pygments_lexer": "ipython3",
   "version": "3.8.16"
  }
 },
 "nbformat": 4,
 "nbformat_minor": 5
}
